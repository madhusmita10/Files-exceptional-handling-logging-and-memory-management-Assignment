{
  "cells": [
    {
      "cell_type": "markdown",
      "metadata": {
        "id": "ambC611a14l9"
      },
      "source": [
        "1. What is the difference between interpreted and compiled languages?\n",
        "- Compiled Languages\t:-1.Entire code compiled to machine code before execution\n",
        "                       2.Executes directly from machine code\n",
        "                       3.Generally faster due to precompiled machine code\n",
        "- Interpreted Languages:-1.Line-by-line interpretation during execution\n",
        "                         2.Requires an interpreter to execute\n",
        "                         3.Slower due to on-the-fly interpretation\n",
        "2.  What is exception handling in Python?\n",
        "- In Python, exception handling is a mechanism that allows a program to deal with runtime errors (exceptions) gracefully, instead of crashing. It provides a way to catch and respond to errors when they occur, which helps make programs more robust and user-friendly.\n",
        "\n",
        "When an error occurs in a Python program, an exception is raised, and the normal flow of the program is interrupted. Without handling exceptions, the program will terminate, but with proper handling, you can control what happens when an error occurs (e.g., logging the error, retrying an operation, or showing a user-friendly message).\n",
        "3.  What is the purpose of the finally block in exception handling?\n",
        "- The purpose of the finally block in Python’s exception handling is to ensure that certain code is executed no matter what, whether an exception is raised or not, and whether it is caught or not.\n",
        "\n",
        "It is typically used for cleanup tasks that must always happen, such as closing files, releasing resources, or committing/rolling back database transactions, regardless of whether an exception occurs during the try block.\n",
        "\n",
        "4.  What is logging in Python?\n",
        "- Logging in Python is a way to track and record events that occur during the execution of a program. It provides a flexible and built-in framework for handling different levels of log messages, such as debugging information, errors, and warnings, which can be written to a variety of destinations\n",
        "\n",
        "5.  What is the significance of the __del__ method in Python?\n",
        "- The main purpose of the __del__ method is to perform cleanup operations for objects before they are destroyed, such as:\n",
        "\n",
        "Closing files\n",
        "\n",
        "Releasing network connections\n",
        "\n",
        "Closing database connections\n",
        "\n",
        "Freeing memory for non-Python resources\n",
        "\n",
        "6. What is the difference between import and from ... import in Python?\n",
        "- import:-1.Imports the entire module.\n",
        "          2.Must use the module name to access functions/classes\n",
        "          3.Does not pollute the global namespace.\n",
        "from ... import:-1.Imports specific objects from the module.\n",
        "                 2.Can access the function/class directly\n",
        "                 3.Can pollute the global namespace if many objects are imported.\n",
        "\n",
        "7. How can you handle multiple exceptions in Python?\n",
        "- You can catch multiple exceptions in a single except block by using a tuple. This is useful if you want to handle multiple exceptions in the same way.\n",
        "\n",
        "8. What is the purpose of the with statement when handling files in Python?\n",
        "- n Python, the with statement is commonly used for handling files and other resources, and its main advantage is that it automatically manages the resource for you, ensuring that it is properly cleaned up when done. This is particularly useful for file handling, where you need to open a file, perform operations, and then close it when you're finished. The with statement simplifies this process and helps avoid common mistakes like failing to close a file.\n",
        "\n",
        "9. What is the difference between multithreading and multiprocessing?\n",
        "- Multithreading is ideal for I/O-bound tasks (like network operations or file I/O) because it allows for concurrency, even though it doesn't provide true parallelism due to the GIL in Python.\n",
        "\n",
        "- Multiprocessing is ideal for CPU-bound tasks (like computation-heavy work), as it allows true parallelism by using multiple processes running on separate CPU cores.\n",
        "\n",
        "Both have their place in Python development, and the choice between them depends on the type of tasks you're performing and whether you're bottlenecked by CPU or I/O operations.\n",
        "\n",
        "10. What are the advantages of using logging in a program?\n",
        "- Using logging in a program provides several advantages over using simple print() statements for tracking and debugging. Logging allows for better management, flexibility, and control over how messages are recorded, helping you track issues and monitor the behavior of your application more effectively.\n",
        "\n",
        "11.  What is memory management in Python?\n",
        "- Memory management in Python is a crucial aspect that allows developers to efficiently handle memory allocation and deallocation during the execution of a program. Python uses several techniques and mechanisms to manage memory automatically, ensuring that memory is utilized optimally while also preventing memory leaks and other issues related to memory usage.\n",
        "\n",
        "12. What are the basic steps involved in exception handling in Python?\n",
        "- The basic steps involved in exception handling in Python are:\n",
        "\n",
        "1. Try Block\n",
        "2. Except Block\n",
        "3. Else Block (Optional)\n",
        "4. Finally Block (Optional)\n",
        "\n",
        "13. Why is memory management important in Python?\n",
        "- Memory management is an essential aspect of any programming language, including Python, because it directly impacts the efficiency, performance, and reliability of your program. In Python, memory management is handled automatically through features like automatic garbage collection and reference counting, but its still crucial for developers to understand how memory is managed, why its important, and how to optimize it for better performance.\n",
        "\n",
        "14.  What is the role of try and except in exception handling?\n",
        "- In Python, the try and except blocks play a crucial role in exception handling, allowing developers to manage and respond to runtime errors (exceptions) gracefully, ensuring that the program doesnt crash unexpectedly.\n",
        "\n",
        "15. How does Python's garbage collection system work?\n",
        "- Python’s garbage collection system is responsible for automatically managing memory by reclaiming memory that is no longer in use, helping to avoid memory leaks and ensuring efficient memory usage. The key components of Pythons garbage collection system are reference counting and cycle detection\n",
        "\n",
        "16.  What is the purpose of the else block in exception handling?\n",
        "- Purpose of the else Block in Exception Handling:\n",
        "1. To Execute Code When No Exception Occurs\n",
        "2. Separation of Concerns\n",
        "3. Prevent Unnecessary Code in try Block\n",
        "\n",
        "17.  What are the common logging levels in Python?\n",
        "- DEBUG: Detailed diagnostic information (for developers).\n",
        "\n",
        "- INFO: General information about program operation.\n",
        "\n",
        "- WARNING: Potential problems or situations that should be noted but aren't critical.\n",
        "\n",
        "- ERROR: Errors that affect part of the program's operation but not the whole system.\n",
        "\n",
        "- CRITICAL: Serious errors that may cause the program to crash or stop functioning.\n",
        "\n",
        "18.  What is the difference between os.fork() and multiprocessing in Python?\n",
        "- os.fork() is a low-level system call available only on Unix-like systems, used for creating child processes by duplicating the parent process. It provides more control but requires handling process synchronization and inter-process communication manually.\n",
        "\n",
        "- multiprocessing is a higher-level Python module that works across platforms and simplifies process creation, synchronization, and communication, making it easier to parallelize tasks in Python programs. It provides better abstractions and is more suitable for most use cases involving parallelism and multiprocessing in Python.\n",
        "\n",
        "19. What is the importance of closing a file in Python?\n",
        "- Closing a file in Python is very important for several reasons related to resource management and system performance. When you open a file in Python using the open() function, the operating system allocates system resources (like memory and file handles) to manage that file. If you don't close the file properly, it can lead to resource leaks and unexpected behavior in your program.\n",
        "\n",
        "20. What is the difference between file.read() and file.readline() in Python?\n",
        "- file.read(): Reads the entire content of the file at once. It's best suited for smaller files where you need all the content in memory at once.\n",
        "\n",
        "- file.readline(): Reads one line at a time, making it more memory efficient for larger files or when you need to process the file line-by-line.\n",
        "\n",
        "21. What is the logging module in Python used for0\n",
        "- The logging module in Python is used to log messages from your application, which can help with:\n",
        "\n",
        "1.Debugging and understanding program behavior.\n",
        "\n",
        "2.Monitoring and tracking application activity.\n",
        "\n",
        "3.Error handling and troubleshooting production issues.\n",
        "\n",
        "22. What is the os module in Python used for in file handling?\n",
        "- The os module is a powerful tool for performing file handling tasks, interacting with the file system, and managing file and directory operations in a cross-platform manner. It complements higher-level libraries like shutil for file operations and pathlib for path manipulations. By using the os module, you can perform tasks such as file creation, deletion, permission changes, and path manipulation, making it essential for file system management in Python.\n",
        "\n",
        "23. What are the challenges associated with memory management in Python?\n",
        "- Unpredictable garbage collection timing.\n",
        "challenges associated with memory management in Python are\n",
        "1.Circular references and memory leaks.\n",
        "\n",
        "2.Performance overhead due to reference counting and garbage collection.\n",
        "\n",
        "3.Memory fragmentation, especially in long-running applications.\n",
        "\n",
        "4.Efficient management of large objects and data sets.\n",
        "\n",
        "5.Handling mutable and immutable objects in memory.\n",
        "\n",
        "24.  How do you raise an exception manually in Python?\n",
        "- raise Keyword: Used to raise exceptions manually.\n",
        "\n",
        "- Custom Messages: You can provide a custom error message with the exception.\n",
        "\n",
        "- Specific Exceptions: It’s better to raise specific exceptions (e.g., ValueError, TypeError) for clarity.\n",
        "\n",
        "- Custom Exceptions: You can create your own exceptions by subclassing the Exception class.\n",
        "\n",
        "25. Why is it important to use multithreading in certain applications?\n",
        "- Using multithreading in certain applications is important because it can significantly improve performance, responsiveness, and efficiency in tasks that are concurrent or parallelizable. Here are some key reasons why multithreading is valuable in specific applications:\n",
        "\n",
        "1. Improved Application Responsiveness\n",
        "2. Better Utilization of CPU Cores\n",
        "3. Concurrent I/O Operations etc\n",
        "\n",
        "\n",
        "\n",
        "\n",
        "\n",
        "\n",
        "\n",
        "\n",
        "\n",
        "\n",
        "\n",
        "\n",
        "\n",
        "\n",
        "\n",
        "\n",
        "\n",
        "\n",
        "   \n",
        "\n",
        "\n",
        "\n",
        "\n",
        "                       \n"
      ]
    },
    {
      "cell_type": "code",
      "execution_count": null,
      "metadata": {
        "id": "_61o77bjDJ2K"
      },
      "outputs": [],
      "source": [
        "#1.How can you open a file for writing in Python and write a string to it?\n",
        "# Open the file in append mode ('a')\n",
        "with open(\"example.txt\", \"a\") as file:\n",
        "    file.write(\"\\nThis is another line added to the file.\")\n"
      ]
    },
    {
      "cell_type": "code",
      "execution_count": null,
      "metadata": {
        "colab": {
          "base_uri": "https://localhost:8080/"
        },
        "id": "vN45RurGDa0N",
        "outputId": "f607921b-1104-4f1b-b9de-79b4c0f915c1"
      },
      "outputs": [
        {
          "name": "stdout",
          "output_type": "stream",
          "text": [
            "\n",
            "This is another line added to the file.\n",
            "This is another line added to the file.\n"
          ]
        }
      ],
      "source": [
        "#2. Write a Python program to read the contents of a file and print each line?\n",
        "# Open the file in read mode ('r')\n",
        "with open(\"example.txt\", \"r\") as file:\n",
        "    # Iterate over each line in the file\n",
        "    for line in file:\n",
        "        # Print each line (strip() removes extra newline characters)\n",
        "        print(line.strip())\n",
        "\n"
      ]
    },
    {
      "cell_type": "code",
      "execution_count": null,
      "metadata": {
        "colab": {
          "base_uri": "https://localhost:8080/"
        },
        "id": "5olrSaENELho",
        "outputId": "49be8fdc-bcbf-4335-92a2-29e61536b5a4"
      },
      "outputs": [
        {
          "name": "stdout",
          "output_type": "stream",
          "text": [
            "Error: The file 'non_existing_file.txt' does not exist.\n"
          ]
        }
      ],
      "source": [
        "#3.How would you handle a case where the file doesn't exist while trying to open it for reading?\n",
        "filename = \"non_existing_file.txt\"\n",
        "\n",
        "try:\n",
        "    with open(filename, \"r\") as file:\n",
        "        for line in file:\n",
        "            print(line.strip())\n",
        "except FileNotFoundError:\n",
        "    print(f\"Error: The file '{filename}' does not exist.\")\n",
        "\n"
      ]
    },
    {
      "cell_type": "code",
      "execution_count": null,
      "metadata": {
        "colab": {
          "base_uri": "https://localhost:8080/"
        },
        "id": "M9es5L83bm6Z",
        "outputId": "bb179466-36fb-4a9c-871d-df21f24719c6"
      },
      "outputs": [
        {
          "name": "stdout",
          "output_type": "stream",
          "text": [
            "Error: The file 'source.txt' was not found.\n"
          ]
        }
      ],
      "source": [
        "#4. Write a Python script that reads from one file and writes its content to another file?\n",
        "# Define the source and destination file names\n",
        "source_file = \"source.txt\"\n",
        "destination_file = \"destination.txt\"\n",
        "\n",
        "try:\n",
        "    # Open the source file in read mode\n",
        "    with open(source_file, \"r\") as src:\n",
        "        # Read all content from the source file\n",
        "        content = src.read()\n",
        "\n",
        "    # Open the destination file in write mode\n",
        "    with open(destination_file, \"w\") as dest:\n",
        "        # Write the content to the destination file\n",
        "        dest.write(content)\n",
        "\n",
        "    print(f\"Contents of '{source_file}' successfully copied to '{destination_file}'.\")\n",
        "\n",
        "except FileNotFoundError:\n",
        "    print(f\"Error: The file '{source_file}' was not found.\")\n",
        "except Exception as e:\n",
        "    print(f\"An error occurred: {e}\")\n",
        "\n"
      ]
    },
    {
      "cell_type": "code",
      "execution_count": null,
      "metadata": {
        "colab": {
          "base_uri": "https://localhost:8080/"
        },
        "id": "l0v7G_brcV_i",
        "outputId": "656d1d89-ab5f-41fc-90c7-e049ae938131"
      },
      "outputs": [
        {
          "name": "stdout",
          "output_type": "stream",
          "text": [
            "Cannot divide by zero.\n",
            "This block always runs (e.g., clean up code).\n"
          ]
        }
      ],
      "source": [
        "#5. How would you catch and handle division by zero error in Python?\n",
        "try:\n",
        "    a = 15\n",
        "    b = 0\n",
        "    result = a / b\n",
        "except ZeroDivisionError:\n",
        "    print(\"Cannot divide by zero.\")\n",
        "else:\n",
        "    print(\"Division successful. Result:\", result)\n",
        "finally:\n",
        "    print(\"This block always runs (e.g., clean up code).\")\n",
        "\n"
      ]
    },
    {
      "cell_type": "code",
      "execution_count": null,
      "metadata": {
        "colab": {
          "base_uri": "https://localhost:8080/"
        },
        "id": "Bgo80TlEdgsk",
        "outputId": "c81d82a0-9ae9-4431-bb6f-695b6bbbe97d"
      },
      "outputs": [
        {
          "name": "stderr",
          "output_type": "stream",
          "text": [
            "ERROR:root:Division by zero error: division by zero\n"
          ]
        },
        {
          "name": "stdout",
          "output_type": "stream",
          "text": [
            "Error: Cannot divide by zero.\n"
          ]
        }
      ],
      "source": [
        "#6. Write a Python program that logs an error message to a log file when a division by zero exception occurs?\n",
        "import logging\n",
        "\n",
        "# Configure logging to write to a file\n",
        "logging.basicConfig(\n",
        "    filename=\"error_log.txt\",\n",
        "    level=logging.ERROR,\n",
        "    format=\"%(asctime)s - %(levelname)s - %(message)s\"\n",
        ")\n",
        "\n",
        "def divide(a, b):\n",
        "    try:\n",
        "        result = a / b\n",
        "        print(\"Result:\", result)\n",
        "    except ZeroDivisionError as e:\n",
        "        print(\"Error: Cannot divide by zero.\")\n",
        "        logging.error(\"Division by zero error: %s\", e)\n",
        "\n",
        "# Test the function\n",
        "divide(10, 0)\n",
        "\n"
      ]
    },
    {
      "cell_type": "code",
      "execution_count": null,
      "metadata": {
        "colab": {
          "base_uri": "https://localhost:8080/"
        },
        "id": "Qvqd4FINefDO",
        "outputId": "d134a301-2370-411c-efbc-602da8f200b9"
      },
      "outputs": [
        {
          "name": "stderr",
          "output_type": "stream",
          "text": [
            "WARNING:root:This is a warning message\n",
            "ERROR:root:This is an error message\n",
            "CRITICAL:root:This is a critical message\n"
          ]
        }
      ],
      "source": [
        "#7. How do you log information at different levels (INFO, ERROR, WARNING) in Python using the logging module\n",
        "import logging\n",
        "logging.basicConfig(\n",
        "    level=logging.DEBUG,  # Set the minimum logging level\n",
        "    format='%(asctime)s - %(levelname)s - %(message)s'\n",
        "    )\n",
        "\n",
        "logging.debug(\"This is a debug message\")      # For debugging info (not shown unless level=DEBUG)\n",
        "logging.info(\"This is an info message\")       # For general information\n",
        "logging.warning(\"This is a warning message\")  # For something unexpected or concerning\n",
        "logging.error(\"This is an error message\")     # For a failure in a function\n",
        "logging.critical(\"This is a critical message\")# For serious errors\n",
        "\n"
      ]
    },
    {
      "cell_type": "code",
      "execution_count": null,
      "metadata": {
        "colab": {
          "base_uri": "https://localhost:8080/"
        },
        "id": "cGI3VQ9J6UwT",
        "outputId": "73a7b622-d645-4c3d-c78a-857f16947771"
      },
      "outputs": [
        {
          "name": "stdout",
          "output_type": "stream",
          "text": [
            "Enter the name of the file to read: file path\n",
            "Error: The file 'file path' was not found.\n"
          ]
        }
      ],
      "source": [
        "#8. Write a program to handle a file opening error using exception handling?\n",
        "def read_file(file_path):\n",
        "    try:\n",
        "        with open(file_path, 'r') as file:\n",
        "            content = file.read()\n",
        "            print(\"File content:\")\n",
        "            print(content)\n",
        "    except FileNotFoundError:\n",
        "        print(f\"Error: The file '{file_path}' was not found.\")\n",
        "    except PermissionError:\n",
        "        print(f\"Error: You don't have permission to access '{file_path}'.\")\n",
        "    except Exception as e:\n",
        "        print(f\"An unexpected error occurred: {e}\")\n",
        "\n",
        "\n",
        "file_name = input(\"Enter the name of the file to read: \")\n",
        "read_file(file_name)\n",
        "\n"
      ]
    },
    {
      "cell_type": "code",
      "execution_count": null,
      "metadata": {
        "colab": {
          "base_uri": "https://localhost:8080/"
        },
        "id": "fV_VweAs7rJK",
        "outputId": "e48b7734-880e-4568-a424-b42d73b7150b"
      },
      "outputs": [
        {
          "name": "stdout",
          "output_type": "stream",
          "text": [
            "File content as a list:\n",
            "['Apple', 'Banana', 'Cherry', 'Date']\n"
          ]
        }
      ],
      "source": [
        "#9. How can you read a file line by line and store its content in a list in Python?\n",
        "\n",
        "with open('example.txt', 'w') as file:\n",
        "    file.write(\"Apple\\n\")\n",
        "    file.write(\"Banana\\n\")\n",
        "    file.write(\"Cherry\\n\")\n",
        "    file.write(\"Date\\n\")\n",
        "\n",
        "try:\n",
        "    with open('example.txt', 'r') as file:\n",
        "        lines = [line.strip() for line in file]\n",
        "\n",
        "\n",
        "   print(\"File content as a list:\")\n",
        "    print(lines)\n",
        "\n",
        "except FileNotFoundError:\n",
        "    print(\"Error: The file 'example.txt' was not found.\")\n",
        "except Exception as e:\n",
        "    print(f\"An error occurred: {e}\")\n",
        "\n",
        "\n",
        "\n"
      ]
    },
    {
      "cell_type": "code",
      "execution_count": null,
      "metadata": {
        "colab": {
          "base_uri": "https://localhost:8080/"
        },
        "id": "rvZdrT748AYr",
        "outputId": "0553f192-5f24-400e-ca22-b623e6d402a0"
      },
      "outputs": [
        {
          "name": "stdout",
          "output_type": "stream",
          "text": [
            "Updated file content:\n",
            "Apple\n",
            "Banana\n",
            "Cherry\n",
            "Date\n",
            "Elderberry\n",
            "Fig\n",
            "\n"
          ]
        }
      ],
      "source": [
        "#10. How can you append data to an existing file in Python?\n",
        "# Step 1: Create or append to the file\n",
        "with open('example.txt', 'a') as file:\n",
        "    file.write(\"Elderberry\\n\")\n",
        "    file.write(\"Fig\\n\")\n",
        "\n",
        "# Step 2: Read and print the updated content\n",
        "with open('example.txt', 'r') as file:\n",
        "    print(\"Updated file content:\")\n",
        "    print(file.read())\n"
      ]
    },
    {
      "cell_type": "code",
      "execution_count": null,
      "metadata": {
        "colab": {
          "base_uri": "https://localhost:8080/"
        },
        "id": "N9_ce-pd-r2X",
        "outputId": "a0cb8a4d-aace-4afd-afb6-cd5288f16951"
      },
      "outputs": [
        {
          "name": "stdout",
          "output_type": "stream",
          "text": [
            "Error: The key 'email' does not exist in the dictionary.\n"
          ]
        }
      ],
      "source": [
        "#11.Write a Python program that uses a try-except block to handle an error when attempting to access a dictionary key that doesn't existF?\n",
        "# Sample dictionary\n",
        "person = {\n",
        "    \"name\": \"Alice\",\n",
        "    \"age\": 30,\n",
        "    \"city\": \"New York\"\n",
        "}\n",
        "\n",
        "# Key to access (this one doesn't exist)\n",
        "key_to_access = \"email\"\n",
        "\n",
        "# Try to access the key and handle the error if the key is missing\n",
        "try:\n",
        "    value = person[key_to_access]\n",
        "    print(f\"The value for '{key_to_access}' is: {value}\")\n",
        "except KeyError:\n",
        "    print(f\"Error: The key '{key_to_access}' does not exist in the dictionary.\")\n"
      ]
    },
    {
      "cell_type": "code",
      "execution_count": null,
      "metadata": {
        "colab": {
          "base_uri": "https://localhost:8080/"
        },
        "id": "ZDPIBYE7_Oo5",
        "outputId": "914ea07d-d010-4982-ddaa-feee7727c087"
      },
      "outputs": [
        {
          "name": "stdout",
          "output_type": "stream",
          "text": [
            "Enter the numerator: 10\n",
            "Enter the denominator: 0\n",
            "Error: Division by zero is not allowed.\n"
          ]
        }
      ],
      "source": [
        "#12. Write a program that demonstrates using multiple except blocks to handle different types of exceptions?\n",
        "try:\n",
        "    # User input for division\n",
        "    num1 = int(input(\"Enter the numerator: \"))\n",
        "    num2 = int(input(\"Enter the denominator: \"))\n",
        "\n",
        "    # Perform division\n",
        "    result = num1 / num2\n",
        "\n",
        "    # Accessing a dictionary key\n",
        "    sample_dict = {\"name\": \"Alice\"}\n",
        "    print(\"Age:\", sample_dict[\"age\"])\n",
        "\n",
        "except ValueError:\n",
        "    print(\"Error: Please enter valid integers.\")\n",
        "\n",
        "except ZeroDivisionError:\n",
        "    print(\"Error: Division by zero is not allowed.\")\n",
        "\n",
        "except KeyError:\n",
        "    print(\"Error: The key you're trying to access does not exist in the dictionary.\")\n",
        "\n",
        "except Exception as e:\n",
        "    print(f\"An unexpected error occurred: {e}\")\n",
        "\n",
        "else:\n",
        "    print(f\"Division result is: {result}\")\n",
        "\n"
      ]
    },
    {
      "cell_type": "code",
      "execution_count": null,
      "metadata": {
        "colab": {
          "base_uri": "https://localhost:8080/"
        },
        "id": "jxZIYXF1_fg3",
        "outputId": "35d0fd6c-1940-4349-e5f6-1a20f28844b6"
      },
      "outputs": [
        {
          "name": "stdout",
          "output_type": "stream",
          "text": [
            "File content:\n",
            "Apple\n",
            "Banana\n",
            "Cherry\n",
            "Date\n",
            "Elderberry\n",
            "Fig\n",
            "\n"
          ]
        }
      ],
      "source": [
        "#13.ow would you check if a file exists before attempting to read it in Python?\n",
        "import os\n",
        "\n",
        "file_path = 'example.txt'\n",
        "\n",
        "if os.path.exists(file_path):\n",
        "    with open(file_path, 'r') as file:\n",
        "        content = file.read()\n",
        "        print(\"File content:\")\n",
        "        print(content)\n",
        "else:\n",
        "    print(f\"Error: The file '{file_path}' does not exist.\")\n",
        "\n"
      ]
    },
    {
      "cell_type": "code",
      "execution_count": null,
      "metadata": {
        "colab": {
          "base_uri": "https://localhost:8080/"
        },
        "id": "8rjLHScR_6jf",
        "outputId": "3edc4e83-17bc-41ef-b6e7-429c485ae367"
      },
      "outputs": [
        {
          "name": "stdout",
          "output_type": "stream",
          "text": [
            "Enter numerator: 10\n",
            "Enter denominator: 5\n",
            "Result: 2.0\n"
          ]
        }
      ],
      "source": [
        "#14. Write a program that uses the logging module to log both informational and error messages?\n",
        "import logging\n",
        "\n",
        "# Configure the logging\n",
        "logging.basicConfig(\n",
        "    filename='app.log',         # Log messages will be saved to this file\n",
        "    level=logging.DEBUG,        # Minimum level to log\n",
        "    format='%(asctime)s - %(levelname)s - %(message)s'\n",
        ")\n",
        "\n",
        "# Log an informational message\n",
        "logging.info(\"Program started successfully.\")\n",
        "\n",
        "# Try a division and handle any errors\n",
        "try:\n",
        "    num1 = int(input(\"Enter numerator: \"))\n",
        "    num2 = int(input(\"Enter denominator: \"))\n",
        "    result = num1 / num2\n",
        "    logging.info(f\"Division successful: {num1} / {num2} = {result}\")\n",
        "    print(f\"Result: {result}\")\n",
        "except ZeroDivisionError as e:\n",
        "    logging.error(\"Attempted division by zero.\")\n",
        "    print(\"Error: Cannot divide by zero.\")\n",
        "except ValueError as e:\n",
        "    logging.error(\"Invalid input: non-integer entered.\")\n",
        "    print(\"Error: Please enter valid integers.\")\n",
        "except Exception as e:\n",
        "    logging.exception(\"An unexpected error occurred.\")\n",
        "    print(\"An unexpected error occurred.\")\n",
        "\n",
        "# Log program end\n",
        "logging.info(\"Program ended.\")\n",
        "\n"
      ]
    },
    {
      "cell_type": "code",
      "execution_count": null,
      "metadata": {
        "id": "40e3NnHxAMv4"
      },
      "outputs": [],
      "source": [
        "#15.Write a Python program that prints the content of a file and handles the case when the file is empty?\n",
        "def read_file(file_path):\n",
        "    try:\n",
        "        # Open the file\n",
        "        with open(file_path, 'r') as file:\n",
        "            content = file.read()\n",
        "\n",
        "            # Check if the file is empty\n",
        "            if not content:\n",
        "                print(\"The file is empty.\")\n",
        "            else:\n",
        "                print(\"File content:\")\n",
        "                print(content)\n",
        "\n",
        "    except FileNotFoundError:\n",
        "        print(f\"Error: The file '{file_path}' was not found.\")\n",
        "    except Exception as e:\n",
        "        print(f\"An unexpected error occurred: {e}\")\n",
        "\n",
        "# Example usage\n",
        "file_name = input(\"Enter the file name to read: \")\n",
        "read_file(file_name)\n",
        "\n"
      ]
    },
    {
      "cell_type": "code",
      "execution_count": null,
      "metadata": {
        "id": "eCmra4PkA66H"
      },
      "outputs": [],
      "source": [
        "#16. Demonstrate how to use memory profiling to check the memory usage of a small program?\n",
        "from memory_profiler import profile\n",
        "\n",
        "@profile\n",
        "def generate_data():\n",
        "    # Create a large list of integers\n",
        "    numbers = [i for i in range(100000)]\n",
        "\n",
        "    # Create another list with the square of each number\n",
        "    squares = [i * i for i in numbers]\n",
        "\n",
        "    # Delete one of the lists to free memory\n",
        "    del numbers\n",
        "\n",
        "    total = sum(squares)\n",
        "    return total\n",
        "\n",
        "if __name__ == \"__main__\":\n",
        "    result = generate_data()\n",
        "    print(\"Sum of squares:\", result)\n",
        "\n",
        "\n"
      ]
    },
    {
      "cell_type": "code",
      "execution_count": null,
      "metadata": {
        "colab": {
          "background_save": true
        },
        "id": "pvvC15FpBMJt",
        "outputId": "6f494839-d602-4b07-8875-2e7b097492e8"
      },
      "outputs": [
        {
          "name": "stdout",
          "output_type": "stream",
          "text": [
            "Numbers written successfully to 'numbers.txt'.\n"
          ]
        }
      ],
      "source": [
        "#17.Write a Python program to create and write a list of numbers to a file, one number per line?\n",
        "# List of numbers to write\n",
        "numbers = [10, 20, 30, 40, 50]\n",
        "\n",
        "# File to write to\n",
        "file_name = \"numbers.txt\"\n",
        "\n",
        "try:\n",
        "    # Open the file in write mode\n",
        "    with open(file_name, 'w') as file:\n",
        "        for number in numbers:\n",
        "            file.write(f\"{number}\\n\")\n",
        "\n",
        "    print(f\"Numbers written successfully to '{file_name}'.\")\n",
        "\n",
        "except Exception as e:\n",
        "    print(f\"An error occurred while writing to the file: {e}\")\n",
        "\n"
      ]
    },
    {
      "cell_type": "code",
      "execution_count": 8,
      "metadata": {
        "colab": {
          "base_uri": "https://localhost:8080/"
        },
        "id": "Hgcsk9DmDfrj",
        "outputId": "a7206207-748c-4480-ecc7-bc4824771d31"
      },
      "outputs": [
        {
          "output_type": "stream",
          "name": "stderr",
          "text": [
            "INFO:my_logger:This is log message number 0\n",
            "INFO:my_logger:This is log message number 1\n",
            "INFO:my_logger:This is log message number 2\n",
            "INFO:my_logger:This is log message number 3\n",
            "INFO:my_logger:This is log message number 4\n",
            "INFO:my_logger:This is log message number 5\n",
            "INFO:my_logger:This is log message number 6\n",
            "INFO:my_logger:This is log message number 7\n",
            "INFO:my_logger:This is log message number 8\n",
            "INFO:my_logger:This is log message number 9\n"
          ]
        }
      ],
      "source": [
        "#18.How would you implement a basic logging setup that logs to a file with rotation after 1MB?\n",
        "import logging\n",
        "from logging.handlers import RotatingFileHandler\n",
        "\n",
        "# Create a logger\n",
        "logger = logging.getLogger(\"my_logger\")\n",
        "logger.setLevel(logging.DEBUG)\n",
        "\n",
        "# Create a rotating file handler (rotate after 1MB, keep 3 backup files)\n",
        "handler = RotatingFileHandler(\n",
        "    \"app.log\",        #\n",
        "    maxBytes=1 * 1 * 1,\n",
        "    backupCount=3\n",
        ")\n",
        "\n",
        "# Define the log format\n",
        "formatter = logging.Formatter('%(asctime)s - %(levelname)s - %(message)s')\n",
        "handler.setFormatter(formatter)\n",
        "\n",
        "# Add the handler to the logger\n",
        "logger.addHandler(handler)\n",
        "\n",
        "# Log some messages (for testing)\n",
        "for i in range(10):\n",
        "    logger.info(f\"This is log message number {i}\")\n",
        "\n",
        "\n"
      ]
    },
    {
      "cell_type": "code",
      "execution_count": null,
      "metadata": {
        "colab": {
          "base_uri": "https://localhost:8080/"
        },
        "id": "EyDr0bb7IPww",
        "outputId": "a617b286-2c6f-4959-ad86-724263606518"
      },
      "outputs": [
        {
          "name": "stdout",
          "output_type": "stream",
          "text": [
            "Error: List index is out of range.\n"
          ]
        }
      ],
      "source": [
        "#19. Write a program that handles both IndexError and KeyError using a try-except block?\n",
        "def handle_errors():\n",
        "    my_list = [10, 20, 30]\n",
        "    my_dict = {\"name\": \"Alice\", \"age\": 25}\n",
        "\n",
        "    try:\n",
        "        # Try to access an invalid index in the list\n",
        "        print(\"List item:\", my_list[5])\n",
        "\n",
        "        # Try to access a non-existent key in the dictionary\n",
        "        print(\"City:\", my_dict[\"city\"])\n",
        "\n",
        "    except IndexError:\n",
        "        print(\"Error: List index is out of range.\")\n",
        "\n",
        "    except KeyError:\n",
        "        print(\"Error: Dictionary key not found.\")\n",
        "\n",
        "# Run the function\n",
        "handle_errors()\n"
      ]
    },
    {
      "cell_type": "code",
      "execution_count": null,
      "metadata": {
        "id": "v-tmkjTjIkiA"
      },
      "outputs": [],
      "source": [
        "#20.  How would you open a file and read its contents using a context manager in Python?\n",
        "# Step 1: Create a sample file\n",
        "with open('sample.txt', 'w') as f:\n",
        "    f.write(\"Hello, this is a sample file.\\nSecond line of text.\")\n",
        "\n",
        "# Step 2: Read the file using a context manager\n",
        "with open('sample.txt', 'r') as file:\n",
        "    content = file.read()\n",
        "    print(\"File content:\")\n",
        "    print(content)\n"
      ]
    },
    {
      "cell_type": "code",
      "execution_count": null,
      "metadata": {
        "id": "jD4H1VfFIy83"
      },
      "outputs": [],
      "source": [
        "#21. Write a Python program that reads a file and prints the number of occurrences of a specific word?\n",
        "def count_word_occurrences(file_path, target_word):\n",
        "    try:\n",
        "        with open(file_path, 'r') as file:\n",
        "            content = file.read().lower()  # Read and convert to lowercase for case-insensitive search\n",
        "            word_count = content.count(target_word.lower())\n",
        "            print(f\"The word '{target_word}' occurs {word_count} times in the file.\")\n",
        "    except FileNotFoundError:\n",
        "        print(f\"Error: The file '{file_path}' was not found.\")\n",
        "    except Exception as e:\n",
        "        print(f\"An unexpected error occurred: {e}\")\n",
        "\n",
        "# Example usage\n",
        "file_name = input(\"Enter the file name: \")\n",
        "word_to_search = input(\"Enter the word to count: \")\n",
        "count_word_occurrences(file_name, word_to_search)\n"
      ]
    },
    {
      "cell_type": "code",
      "execution_count": null,
      "metadata": {
        "colab": {
          "base_uri": "https://localhost:8080/"
        },
        "id": "iLz8PCQzJJPA",
        "outputId": "b98346be-c676-41bf-fb22-726474303bad"
      },
      "outputs": [
        {
          "name": "stdout",
          "output_type": "stream",
          "text": [
            "Error: The file 'example.txt' does not exist.\n"
          ]
        }
      ],
      "source": [
        "#22. How can you check if a file is empty before attempting to read its contents?\n",
        "import os\n",
        "\n",
        "file_path = 'example.txt'\n",
        "\n",
        "# Check if the file exists and is not empty\n",
        "if os.path.exists(file_path):\n",
        "    if os.path.getsize(file_path) == 0:\n",
        "        print(\"The file is empty.\")\n",
        "    else:\n",
        "        with open(file_path, 'r') as file:\n",
        "            content = file.read()\n",
        "            print(\"File content:\")\n",
        "            print(content)\n",
        "else:\n",
        "    print(f\"Error: The file '{file_path}' does not exist.\")\n",
        "\n"
      ]
    },
    {
      "cell_type": "code",
      "execution_count": null,
      "metadata": {
        "id": "d6EVvEiGJW9v"
      },
      "outputs": [],
      "source": [
        "#23. Write a Python program that writes to a log file when an error occurs during file handling?\n",
        "import logging\n",
        "\n",
        "# Configure logging to write to a file\n",
        "logging.basicConfig(\n",
        "    filename='error.log',\n",
        "    level=logging.ERROR,\n",
        "    format='%(asctime)s - %(levelname)s - %(message)s'\n",
        ")\n",
        "\n",
        "def read_file(file_path):\n",
        "    try:\n",
        "        with open(file_path, 'r') as file:\n",
        "            content = file.read()\n",
        "            print(\"File content:\")\n",
        "            print(content)\n",
        "    except FileNotFoundError as e:\n",
        "        logging.error(f\"FileNotFoundError: {e}\")\n",
        "        print(f\"Error: The file '{file_path}' was not found.\")\n",
        "    except Exception as e:\n",
        "        logging.error(f\"Unexpected error: {e}\")\n",
        "        print(\"An unexpected error occurred.\")\n",
        "\n",
        "# Example usage\n",
        "file_name = input(\"Enter the file name to read: \")\n",
        "read_file(file_name)\n"
      ]
    },
    {
      "cell_type": "code",
      "execution_count": null,
      "metadata": {
        "id": "g035-2Y7J2MS"
      },
      "outputs": [],
      "source": []
    }
  ],
  "metadata": {
    "colab": {
      "provenance": []
    },
    "kernelspec": {
      "display_name": "Python 3",
      "name": "python3"
    },
    "language_info": {
      "name": "python"
    }
  },
  "nbformat": 4,
  "nbformat_minor": 0
}